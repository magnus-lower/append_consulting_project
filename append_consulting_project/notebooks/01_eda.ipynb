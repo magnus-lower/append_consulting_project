{
 "cells": [
  {
   "cell_type": "code",
   "execution_count": null,
   "id": "d3891a5d",
   "metadata": {
    "vscode": {
     "languageId": "plaintext"
    }
   },
   "outputs": [],
   "source": [
    "import pandas as pd\n",
    "\n",
    "rec = pd.read_csv(\"data/kernel/receivals.csv\", parse_dates=[\"timestamp\"])  # adjust column name if different\n",
    "po  = pd.read_csv(\"data/kernel/purchase_orders.csv\", parse_dates=[\"expected_date\"])\n",
    "map_df = pd.read_csv(\"data/kernel/prediction_mapping.csv\")\n",
    "sample = pd.read_csv(\"data/kernel/sample_submission.csv\")\n",
    "\n",
    "rec[\"date\"] = rec[\"timestamp\"].dt.date\n",
    "# Example grouping (adjust keys to match your columns)\n",
    "daily = rec.groupby([\"rm_id\",\"date\"], as_index=False)[\"quantity\"].sum()\n",
    "daily[\"cum_qty\"] = daily.groupby(\"rm_id\")[\"quantity\"].cumsum()\n",
    "\n",
    "daily.head(), po.head(), map_df.head(), sample.head()\n"
   ]
  }
 ],
 "metadata": {
  "language_info": {
   "name": "python"
  }
 },
 "nbformat": 4,
 "nbformat_minor": 5
}
