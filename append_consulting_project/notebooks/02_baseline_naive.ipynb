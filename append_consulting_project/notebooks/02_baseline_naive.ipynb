{
 "cells": [
  {
   "cell_type": "code",
   "execution_count": null,
   "id": "33b3afd3",
   "metadata": {
    "vscode": {
     "languageId": "plaintext"
    }
   },
   "outputs": [],
   "source": [
    "# map to competition rows using prediction_mapping.csv\n",
    "sub = (map_df\n",
    "       .merge(pred_df, on=[\"rm_id\",\"date\"], how=\"left\")\n",
    "       .rename(columns={\"cum_pred\":\"target\"}))\n",
    "\n",
    "# Ensure non-decreasing per rm_id\n",
    "sub[\"target\"] = sub.groupby(\"rm_id\")[\"target\"].cummax()\n",
    "\n",
    "sub = sub[[\"row_id\",\"target\"]]  # match sample_submission columns\n",
    "sub.to_csv(\"output/submission_baseline_A.csv\", index=False)\n"
   ]
  }
 ],
 "metadata": {
  "language_info": {
   "name": "python"
  }
 },
 "nbformat": 4,
 "nbformat_minor": 5
}
