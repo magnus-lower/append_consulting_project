{
 "cells": [
  {
   "cell_type": "code",
   "execution_count": null,
   "id": "33b3afd3",
   "metadata": {},
   "outputs": [],
   "source": [
    "# map to competition rows using prediction_mapping.csv\n",
    "sub = (map_df\n",
    "       .merge(pred_df, on=[\"rm_id\",\"date\"], how=\"left\")\n",
    "       .rename(columns={\"cum_pred\":\"target\"}))\n",
    "\n",
    "# Ensure non-decreasing per rm_id\n",
    "sub[\"target\"] = sub.groupby(\"rm_id\")[\"target\"].cummax()\n",
    "\n",
    "sub = sub[[\"row_id\",\"target\"]]  # match sample_submission columns\n",
    "sub.to_csv(\"output/submission_baseline_A.csv\", index=False)\n"
   ]
  }
 ],
 "metadata": {
  "kernelspec": {
   "display_name": "tdt4173",
   "language": "python",
   "name": "python3"
  },
  "language_info": {
   "name": "python",
   "version": "3.10.18"
  }
 },
 "nbformat": 4,
 "nbformat_minor": 5
}
