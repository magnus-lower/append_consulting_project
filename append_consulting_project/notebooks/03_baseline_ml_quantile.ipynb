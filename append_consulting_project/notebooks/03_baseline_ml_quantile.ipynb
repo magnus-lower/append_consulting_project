{
 "cells": [
  {
   "cell_type": "code",
   "execution_count": null,
   "id": "0afe18d1",
   "metadata": {
    "vscode": {
     "languageId": "plaintext"
    }
   },
   "outputs": [],
   "source": [
    "import lightgbm as lgb\n",
    "from sklearn.metrics import mean_pinball_loss\n",
    "\n",
    "# y: daily (or cumulative) target\n",
    "# X: engineered features\n",
    "train_mask = (X[\"date\"] < \"YYYY-MM-DD\")  # pick a cutoff\n",
    "X_tr, y_tr = X[train_mask].drop(columns=[\"date\",\"rm_id\"]), y[train_mask]\n",
    "X_va, y_va = X[~train_mask].drop(columns=[\"date\",\"rm_id\"]), y[~train_mask]\n",
    "\n",
    "model = lgb.LGBMRegressor(\n",
    "    objective=\"quantile\",\n",
    "    alpha=0.2,\n",
    "    n_estimators=1000,\n",
    "    learning_rate=0.05,\n",
    "    subsample=0.8,\n",
    "    colsample_bytree=0.8,\n",
    "    random_state=42\n",
    ")\n",
    "model.fit(X_tr, y_tr,\n",
    "          eval_set=[(X_va, y_va)],\n",
    "          eval_metric=lambda y_true,y_pred: (\"p20\", mean_pinball_loss(y_true, y_pred, alpha=0.2), False),\n",
    "          verbose=50)\n",
    "\n",
    "va_pred = model.predict(X_va)\n"
   ]
  }
 ],
 "metadata": {
  "language_info": {
   "name": "python"
  }
 },
 "nbformat": 4,
 "nbformat_minor": 5
}
